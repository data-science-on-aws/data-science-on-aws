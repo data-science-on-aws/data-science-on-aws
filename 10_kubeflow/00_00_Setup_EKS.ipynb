{
 "cells": [
  {
   "cell_type": "code",
   "execution_count": null,
   "metadata": {},
   "outputs": [],
   "source": [
    "import tensorflow as tf\n",
    "print('TensorFlow Version %s' % tf.__version__)"
   ]
  },
  {
   "cell_type": "code",
   "execution_count": null,
   "metadata": {},
   "outputs": [],
   "source": [
    "import sys\n",
    "print('Python Version %s' % sys.version)"
   ]
  },
  {
   "cell_type": "code",
   "execution_count": null,
   "metadata": {},
   "outputs": [],
   "source": [
    "!pip list"
   ]
  },
  {
   "cell_type": "code",
   "execution_count": null,
   "metadata": {},
   "outputs": [],
   "source": [
    "%%bash\n",
    "conda list"
   ]
  },
  {
   "cell_type": "code",
   "execution_count": null,
   "metadata": {},
   "outputs": [],
   "source": [
    "%%html\n",
    "\n",
    "<iframe src=\"https://datascienceonaws.com\" width=\"800px\" height=\"600px\"/>"
   ]
  },
  {
   "cell_type": "markdown",
   "metadata": {},
   "source": [
    "# 1. Install the CLI tools\n",
    "\n",
    "_Note:  Make sure the SageMaker role has access to create EKS Cluster._"
   ]
  },
  {
   "cell_type": "code",
   "execution_count": 5,
   "metadata": {},
   "outputs": [
    {
     "name": "stdout",
     "output_type": "stream",
     "text": [
      "Collecting awscli\n",
      "  Downloading https://files.pythonhosted.org/packages/8b/13/d7a0fad834271c7ce29c2345d905ac23da4bbc533f53a8880ad58a1bff24/awscli-1.18.11-py2.py3-none-any.whl (2.9MB)\n",
      "Requirement already satisfied, skipping upgrade: rsa<=3.5.0,>=3.1.2 in /home/ec2-user/anaconda3/lib/python3.6/site-packages (from awscli) (3.4.2)\n",
      "Requirement already satisfied, skipping upgrade: colorama<0.4.4,>=0.2.5; python_version != \"3.4\" in /home/ec2-user/anaconda3/lib/python3.6/site-packages (from awscli) (0.3.9)\n",
      "Requirement already satisfied, skipping upgrade: docutils<0.16,>=0.10 in /home/ec2-user/anaconda3/lib/python3.6/site-packages (from awscli) (0.14)\n",
      "Requirement already satisfied, skipping upgrade: s3transfer<0.4.0,>=0.3.0 in /home/ec2-user/anaconda3/lib/python3.6/site-packages (from awscli) (0.3.3)\n",
      "Requirement already satisfied, skipping upgrade: PyYAML<5.3,>=3.10 in /home/ec2-user/anaconda3/lib/python3.6/site-packages (from awscli) (5.2)\n",
      "Collecting botocore==1.15.11\n",
      "  Downloading https://files.pythonhosted.org/packages/e5/e8/c2cb7845cab6d7694fc82f9cff8916f89b1233aa4d881c6cbeaac42b82b9/botocore-1.15.11-py2.py3-none-any.whl (5.9MB)\n",
      "Requirement already satisfied, skipping upgrade: pyasn1>=0.1.3 in /home/ec2-user/anaconda3/lib/python3.6/site-packages (from rsa<=3.5.0,>=3.1.2->awscli) (0.4.8)\n",
      "Requirement already satisfied, skipping upgrade: python-dateutil<3.0.0,>=2.1 in /home/ec2-user/anaconda3/lib/python3.6/site-packages (from botocore==1.15.11->awscli) (2.7.3)\n",
      "Requirement already satisfied, skipping upgrade: jmespath<1.0.0,>=0.7.1 in /home/ec2-user/anaconda3/lib/python3.6/site-packages (from botocore==1.15.11->awscli) (0.9.4)\n",
      "Requirement already satisfied, skipping upgrade: urllib3<1.26,>=1.20; python_version != \"3.4\" in /home/ec2-user/anaconda3/lib/python3.6/site-packages (from botocore==1.15.11->awscli) (1.23)\n",
      "Requirement already satisfied, skipping upgrade: six>=1.5 in /home/ec2-user/anaconda3/lib/python3.6/site-packages (from python-dateutil<3.0.0,>=2.1->botocore==1.15.11->awscli) (1.13.0)\n",
      "Installing collected packages: botocore, awscli\n",
      "Successfully installed awscli-1.18.11 botocore-1.15.11\n",
      "[ℹ]  version.Info{BuiltAt:\"\", GitCommit:\"\", GitTag:\"0.13.0\"}\n",
      "Client Version: v1.14.7-eks-1861c5\n",
      "{\"Version\":\"v0.4.0\",\"Commit\":\"c141eda34ad1b6b4d71056810951801348f8c367\"}\n",
      "Loaded plugins: dkms-build-requires, priorities, update-motd, upgrade-helper,\n",
      "              : versionlock\n",
      "Package jq-1.5-1.2.amzn1.x86_64 already installed and latest version\n",
      "Package gettext-0.18.1.1-9.1.11.amzn1.x86_64 already installed and latest version\n",
      "Nothing to do\n",
      "kubectl in path\n",
      "jq in path\n",
      "envsubst in path\n",
      "Completed\n"
     ]
    },
    {
     "name": "stderr",
     "output_type": "stream",
     "text": [
      "ERROR: boto3 1.11.14 has requirement botocore<1.15.0,>=1.14.14, but you'll have botocore 1.15.11 which is incompatible.\n",
      "WARNING: You are using pip version 19.3.1; however, version 20.0.2 is available.\n",
      "You should consider upgrading via the 'pip install --upgrade pip' command.\n",
      "  % Total    % Received % Xferd  Average Speed   Time    Time     Time  Current\n",
      "                                 Dload  Upload   Total   Spent    Left  Speed\n",
      "\r",
      "  0     0    0     0    0     0      0      0 --:--:-- --:--:-- --:--:--     0\r",
      "  5 41.0M    5 2273k    0     0  2759k      0  0:00:15 --:--:--  0:00:15 2755k\r",
      " 59 41.0M   59 24.6M    0     0  13.3M      0  0:00:03  0:00:01  0:00:02 13.3M\r",
      "100 41.0M  100 41.0M    0     0  15.9M      0  0:00:02  0:00:02 --:--:-- 15.9M\n",
      "  % Total    % Received % Xferd  Average Speed   Time    Time     Time  Current\n",
      "                                 Dload  Upload   Total   Spent    Left  Speed\n",
      "\r",
      "  0     0    0     0    0     0      0      0 --:--:-- --:--:-- --:--:--     0\r",
      "  0     0    0     0    0     0      0      0 --:--:-- --:--:-- --:--:--     0\r",
      " 59 17.7M   59 10.5M    0     0  9198k      0  0:00:01  0:00:01 --:--:-- 9191k\r",
      "100 17.7M  100 17.7M    0     0  12.1M      0  0:00:01  0:00:01 --:--:-- 12.1M\n"
     ]
    }
   ],
   "source": [
    "%%bash\n",
    "\n",
    "source ~/.bash_profile\n",
    "\n",
    "#### Install `eksctl`\n",
    "# To get started we'll first install the `awscli` and `eksctl` CLI tools. [eksctl](https://eksctl.io) simplifies the process of creating EKS clusters.\n",
    "\n",
    "pip install awscli --upgrade --user\n",
    "\n",
    "curl --silent --location \"https://github.com/weaveworks/eksctl/releases/download/latest_release/eksctl_$(uname -s)_amd64.tar.gz\" | tar xz -C /tmp\n",
    "\n",
    "sudo mv /tmp/eksctl /usr/local/bin\n",
    "\n",
    "eksctl version\n",
    "\n",
    "#### Install `kubectl`\n",
    "# `kubectl` is a command line interface for running commands against Kubernetes clusters. \n",
    "# Run the following to install Kubectl\n",
    "\n",
    "curl -o kubectl https://amazon-eks.s3-us-west-2.amazonaws.com/1.14.6/2019-08-22/bin/linux/amd64/kubectl\n",
    "\n",
    "chmod +x ./kubectl\n",
    "\n",
    "sudo mv ./kubectl /usr/local/bin\n",
    "\n",
    "kubectl version --short --client\n",
    "\n",
    "#### Install `aws-iam-authenticator`\n",
    "\n",
    "curl -o aws-iam-authenticator https://amazon-eks.s3-us-west-2.amazonaws.com/1.14.6/2019-08-22/bin/linux/amd64/aws-iam-authenticator\n",
    "\n",
    "chmod +x ./aws-iam-authenticator\n",
    "\n",
    "sudo mv aws-iam-authenticator /usr/local/bin\n",
    "\n",
    "aws-iam-authenticator version\n",
    "\n",
    "#### Install jq and envsubst (from GNU gettext utilities) \n",
    "sudo yum -y install jq gettext\n",
    "\n",
    "#### Verify the binaries are in the path and executable\n",
    "for command in kubectl jq envsubst\n",
    "  do\n",
    "    which $command &>/dev/null && echo \"$command in path\" || echo \"$command NOT FOUND\"\n",
    "  done\n",
    "\n",
    "echo \"Completed\""
   ]
  },
  {
   "cell_type": "markdown",
   "metadata": {},
   "source": [
    "# 2. Configure the Environment Variables"
   ]
  },
  {
   "cell_type": "code",
   "execution_count": 9,
   "metadata": {},
   "outputs": [
    {
     "name": "stdout",
     "output_type": "stream",
     "text": [
      "export AWS_REGION=us-west-2\n",
      "export AWS_CLUSTER_NAME=cluster\n",
      "Completed\n"
     ]
    }
   ],
   "source": [
    "%%bash\n",
    "\n",
    "source ~/.bash_profile\n",
    "\n",
    "export AWS_REGION=us-west-2\n",
    "echo \"export AWS_REGION=${AWS_REGION}\" | tee -a ~/.bash_profile\n",
    "\n",
    "export AWS_CLUSTER_NAME=cluster\n",
    "echo \"export AWS_CLUSTER_NAME=${AWS_CLUSTER_NAME}\" | tee -a ~/.bash_profile\n",
    "\n",
    "echo \"Completed\""
   ]
  },
  {
   "cell_type": "markdown",
   "metadata": {},
   "source": [
    "# 3. Create the EKS Cluster\n",
    "\n",
    "_Note:  Creating a cluster may take about 15 mins._"
   ]
  },
  {
   "cell_type": "code",
   "execution_count": 10,
   "metadata": {},
   "outputs": [
    {
     "name": "stdout",
     "output_type": "stream",
     "text": [
      "[ℹ]  eksctl version 0.13.0\n",
      "[ℹ]  using region us-west-2\n",
      "[ℹ]  subnets for us-west-2a - public:192.168.0.0/19 private:192.168.96.0/19\n",
      "[ℹ]  subnets for us-west-2b - public:192.168.32.0/19 private:192.168.128.0/19\n",
      "[ℹ]  subnets for us-west-2c - public:192.168.64.0/19 private:192.168.160.0/19\n",
      "Completed\n"
     ]
    },
    {
     "name": "stderr",
     "output_type": "stream",
     "text": [
      "Error: unable to find image \"ami-0c13bb9cbfd007e56\": UnauthorizedOperation: You are not authorized to perform this operation.\n",
      "\tstatus code: 403, request id: 32159135-6f3f-4da5-8625-39eb73053f5c\n"
     ]
    }
   ],
   "source": [
    "%%bash\n",
    "\n",
    "source ~/.bash_profile\n",
    "\n",
    "eksctl create cluster \\\n",
    "    --name ${AWS_CLUSTER_NAME} \\\n",
    "    --version 1.14 \\\n",
    "    --region ${AWS_REGION} \\\n",
    "    --nodegroup-name cpu-nodes \\\n",
    "    --node-type c5.xlarge \\\n",
    "    --nodes 5 \\\n",
    "    --node-volume-size 100 \\\n",
    "    --node-zones us-west-2a \\\n",
    "    --timeout=40m \\\n",
    "    --zones=us-west-2a,us-west-2b,us-west-2c \\\n",
    "    --alb-ingress-access \\\n",
    "    --auto-kubeconfig\n",
    "    \n",
    "echo \"Completed\""
   ]
  },
  {
   "cell_type": "markdown",
   "metadata": {},
   "source": [
    "![](img/launch_eks.png)"
   ]
  },
  {
   "cell_type": "markdown",
   "metadata": {},
   "source": [
    "# Please wait until the EKS cluster is succesfully deployed before you continue!"
   ]
  },
  {
   "cell_type": "markdown",
   "metadata": {},
   "source": [
    "![](img/verify_eks.png)"
   ]
  },
  {
   "cell_type": "markdown",
   "metadata": {},
   "source": [
    "# 4. Associate IAM Policies with EKS Worker Nodes\n"
   ]
  },
  {
   "cell_type": "code",
   "execution_count": null,
   "metadata": {},
   "outputs": [],
   "source": [
    "%%bash\n",
    "\n",
    "### Source the environment\n",
    "source ~/.bash_profile\n",
    "\n",
    "### Create more environment variables\n",
    "export STACK_NAME=$(eksctl get nodegroup --cluster ${AWS_CLUSTER_NAME} -o json | jq -r '.[].StackName')\n",
    "echo \"export STACK_NAME=${STACK_NAME}\" | tee -a ~/.bash_profile\n",
    "\n",
    "export INSTANCE_ROLE_NAME=$(aws cloudformation describe-stacks --stack-name $STACK_NAME --output text --query \"Stacks[0].Outputs[1].OutputValue\" | sed -e 's/.*\\///g')\n",
    "echo \"export INSTANCE_ROLE_NAME=${INSTANCE_ROLE_NAME}\" | tee -a ~/.bash_profile\n",
    "\n",
    "export INSTANCE_PROFILE_ARN=$(aws cloudformation describe-stacks --stack-name $STACK_NAME | jq -r '.Stacks[].Outputs[] | select(.OutputKey==\"InstanceProfileARN\") | .OutputValue')\n",
    "echo \"export INSTANCE_PROFILE_ARN=${INSTANCE_PROFILE_ARN}\" | tee -a ~/.bash_profile\n",
    "\n",
    "#### Allow Access from/to the Elastic Container Registry (ECR)\n",
    "# This allows our cluster worker nodes to load custom Docker images (ie. models) from ECR.  We will load these custom Docker images in a later section.\n",
    "aws iam attach-role-policy --role-name $INSTANCE_ROLE_NAME --policy-arn arn:aws:iam::aws:policy/AmazonEC2ContainerRegistryFullAccess\n",
    "\n",
    "### Associated IAM and OIDC\n",
    "# To use IAM roles for service accounts in your cluster, you must create an OIDC identity provider in the IAM console.  See https://docs.aws.amazon.com/eks/latest/userguide/enable-iam-roles-for-service-accounts.html for more info.\n",
    "eksctl utils associate-iam-oidc-provider --cluster ${AWS_CLUSTER_NAME} --approve\n",
    "aws eks describe-cluster --name ${AWS_CLUSTER_NAME} --region ${AWS_REGION} --query \"cluster.identity.oidc.issuer\" --output text\n",
    "\n",
    "echo \"Completed\""
   ]
  },
  {
   "cell_type": "markdown",
   "metadata": {},
   "source": [
    "# 5. Update `~/.kube/config` with our new EKS cluster"
   ]
  },
  {
   "cell_type": "code",
   "execution_count": 15,
   "metadata": {},
   "outputs": [
    {
     "name": "stderr",
     "output_type": "stream",
     "text": [
      "\n",
      "An error occurred (AccessDeniedException) when calling the DescribeCluster operation: User: arn:aws:sts::835319576252:assumed-role/AmazonSageMaker-ExecutionRole-20191006T135881/SageMaker is not authorized to perform: eks:DescribeCluster on resource: arn:aws:eks:us-west-2:835319576252:cluster/cluster\n"
     ]
    }
   ],
   "source": [
    "%%bash\n",
    "\n",
    "source ~/.bash_profile\n",
    "\n",
    "aws eks --region ${AWS_REGION} update-kubeconfig --name ${AWS_CLUSTER_NAME} "
   ]
  },
  {
   "cell_type": "markdown",
   "metadata": {},
   "source": [
    "# 6. Verify Your EKS Cluster\n"
   ]
  },
  {
   "cell_type": "code",
   "execution_count": 16,
   "metadata": {},
   "outputs": [
    {
     "name": "stderr",
     "output_type": "stream",
     "text": [
      "The connection to the server localhost:8080 was refused - did you specify the right host or port?\n"
     ]
    }
   ],
   "source": [
    "%%bash\n",
    "\n",
    "kubectl get ns\n",
    "\n",
    "### EXPECTED OUTPUT ###\n",
    "# NAME              STATUS   AGE\n",
    "# default           Active   12m\n",
    "# kube-node-lease   Active   13m\n",
    "# kube-public       Active   13m\n",
    "# kube-system       Active   13m\n"
   ]
  },
  {
   "cell_type": "code",
   "execution_count": 17,
   "metadata": {},
   "outputs": [
    {
     "name": "stderr",
     "output_type": "stream",
     "text": [
      "The connection to the server localhost:8080 was refused - did you specify the right host or port?\n"
     ]
    }
   ],
   "source": [
    "%%bash\n",
    "\n",
    "kubectl get nodes\n",
    "\n",
    "### EXPECTED OUTPUT ###\n",
    "# NAME                                            STATUS   ROLES    AGE    VERSION\n",
    "# ip-XXX-XXX-XXX-XXX.us-west-2.compute.internal   Ready    <none>   7m3s   v1.14.7-eks-1861c5\n",
    "# ip-XXX-XXX-XXX-XXX.us-west-2.compute.internal   Ready    <none>   7m4s   v1.14.7-eks-1861c5"
   ]
  },
  {
   "cell_type": "code",
   "execution_count": null,
   "metadata": {},
   "outputs": [],
   "source": []
  }
 ],
 "metadata": {
  "kernelspec": {
   "display_name": "conda_python3",
   "language": "python",
   "name": "conda_python3"
  },
  "language_info": {
   "codemirror_mode": {
    "name": "ipython",
    "version": 3
   },
   "file_extension": ".py",
   "mimetype": "text/x-python",
   "name": "python",
   "nbconvert_exporter": "python",
   "pygments_lexer": "ipython3",
   "version": "3.6.5"
  }
 },
 "nbformat": 4,
 "nbformat_minor": 2
}
