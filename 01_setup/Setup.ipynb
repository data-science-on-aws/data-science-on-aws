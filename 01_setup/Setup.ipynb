{
 "cells": [
  {
   "cell_type": "markdown",
   "metadata": {},
   "source": [
    "This workshop creates an ephemeral AWS acccount for you to use only for this workshop.  \n",
    "\n",
    "_This account will be torn down and not accessible immediately after the workshop._"
   ]
  },
  {
   "cell_type": "markdown",
   "metadata": {},
   "source": [
    "# 1. Logout of any AWS Consoles in all Browser Tabs\n",
    "If you don't logout, the following instructions will not work properly.\n",
    "\n",
    "_Please logout of all AWS Console sessions in all browser tabs._\n",
    "\n",
    "\n"
   ]
  },
  {
   "cell_type": "markdown",
   "metadata": {},
   "source": [
    "# 2. Login to AWS Workshop Portal\n",
    "\n",
    "You will need the **Participant Hash** provided upon entry, and your email address to track your unique session.\n",
    "\n",
    "Connect to the portal by clicking the button or browsing to the following url:\n",
    "\n",
    "[**https://dashboard.eventengine.run/**](https://dashboard.eventengine.run/)\n",
    "\n",
    "We will provide you with a hash code.  Enter this code when you see the following screen.\n",
    "\n",
    "![Event Engine](img/event-engine-initial-screen.png)\n",
    "\n",
    "Enter the provided hash in the text box. The button on the bottom right corner changes to **Accept Terms & Login**. Click on that button to continue.\n",
    "\n",
    "![Event Engine Dashboard](img/event-engine-dashboard.png)\n",
    "\n",
    "Click on **AWS Console** on dashboard.\n",
    "\n",
    "![Event Engine AWS Console](img/event-engine-aws-console.png)\n",
    "\n",
    "Take the defaults and click on **Open AWS Console**. This will open AWS Console in a new browser tab.\n",
    "\n",
    "Double-check that your account name is something like `TeamRole/MasterKey` as follows:\n",
    "\n",
    "![](img/teamrole-masterkey.png)\n",
    "\n",
    "If not, please logout of your AWS Console in all browser tabs and re-run the steps above!"
   ]
  },
  {
   "cell_type": "markdown",
   "metadata": {},
   "source": [
    "# 3. Launch an Amazon SageMaker Notebook Instance\n",
    "\n",
    "Open the [AWS Management Console](https://console.aws.amazon.com/console/home)\n",
    "\n",
    "**Note:** This workshop has been tested on the US West (Oregon) (us-west-2) region. Make sure that you see **Oregon** on the top right hand corner of your AWS Management Console. If you see a different region, click the dropdown menu and select US West (Oregon).\n",
    "\n",
    "In the AWS Console search bar, type `SageMaker` and select `Amazon SageMaker` to open the service console.\n",
    "\n",
    "![SageMaker Console](img/setup_aws_console.png)\n",
    "\n",
    "Select `Create notebook instance`.\n",
    "\n",
    "In the Notebook instance name text box, enter a name for the notebook instance.\n",
    "\n",
    "For this workshop select `workshop` as the instance name.\n",
    "\n",
    "Choose `ml.t3.xlarge`. We'll only be using this instance to launch jobs. The training job themselves will run either on a SageMaker managed cluster or an Amazon EKS cluster.\n",
    "\n",
    "Volume size `50` - this is only needed for building docker containers. During training data is copied directly from Amazon S3 to the training cluster when using SageMaker. When using Amazon EKS, we'll setup a distributed file system that worker nodes will use to get access to training data.\n",
    "\n",
    "![Fill notebook instance](img/setup_fill_notebook.png)\n",
    "\n",
    "In the IAM role box, select the default `TeamRole`. \n",
    "\n",
    "Keep the default settings for the other options and click `Create notebook instance`. On the `Notebook instances` section you should see the status change from `Pending` -> `InService`\n",
    "\n",
    "While the notebook instance spins up, continue to work on the next section, and we'll come back and launch the instance when it's ready.\n"
   ]
  },
  {
   "cell_type": "markdown",
   "metadata": {},
   "source": [
    "# 4. Update IAM Role Policy\n",
    "\n",
    "Click on the notebook instance to see the instance details.\n",
    "\n",
    "Click on the IAM role link and navigate to the IAM Management Console.\n",
    "\n",
    "![IAM Role](img/update_iam.png)\n",
    "\n",
    "Click `Attach Policies`.\n",
    "\n",
    "![IAM Policy](img/view_policies.png)\n",
    "              \n",
    "Select `AdministratorAccess` and click on `Attach Policy`.\n",
    "\n",
    "![Attach Admin Policy](img/attach_admin_policy.png)\n"
   ]
  },
  {
   "cell_type": "markdown",
   "metadata": {},
   "source": [
    "# 5. Launch the notebook\n",
    "\n",
    "Wait until your notebook instance is ready. \n",
    "\n",
    "Click `Jupyter` to start your notebook.\n",
    "\n",
    "![](img/start_jupyter.png)\n"
   ]
  },
  {
   "cell_type": "markdown",
   "metadata": {},
   "source": [
    "Click `File` > `New` > `Terminal` to launch a terminal in your Jupyter instance.\n",
    "\n",
    "![](img/launch_jupyter_terminal.png)\n",
    "\n",
    "Within the Jupyter terminal, run the following:\n",
    "\n",
    "```\n",
    "cd ~/SageMaker\n",
    "\n",
    "git clone https://github.com/data-science-on-aws/workshop.git\n",
    "\n",
    "```\n"
   ]
  },
  {
   "cell_type": "markdown",
   "metadata": {},
   "source": [
    "# 6. Setup S3 Bucket"
   ]
  },
  {
   "cell_type": "code",
   "execution_count": null,
   "metadata": {},
   "outputs": [],
   "source": [
    "%%bash\n",
    "\n",
    "export S3_BUCKET=sagemaker-$(aws configure get region)-$(aws sts get-caller-identity | jq -r '.Account')\n",
    "echo \"export S3_BUCKET=${S3_BUCKET}\" | tee -a ~/.bash_profile\n",
    "\n",
    "# Create a new S3 bucket and upload the dataset. \n",
    "aws s3 mb s3://${S3_BUCKET}\n",
    "\n",
    "echo \"Completed\"\n"
   ]
  }
 ],
 "metadata": {
  "kernelspec": {
   "display_name": "conda_python3",
   "language": "python",
   "name": "conda_python3"
  },
  "language_info": {
   "codemirror_mode": {
    "name": "ipython",
    "version": 3
   },
   "file_extension": ".py",
   "mimetype": "text/x-python",
   "name": "python",
   "nbconvert_exporter": "python",
   "pygments_lexer": "ipython3",
   "version": "3.6.5"
  }
 },
 "nbformat": 4,
 "nbformat_minor": 4
}
